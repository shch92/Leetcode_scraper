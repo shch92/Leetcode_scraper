{
 "cells": [
  {
   "cell_type": "code",
   "execution_count": 1,
   "metadata": {},
   "outputs": [],
   "source": [
    "from selenium import webdriver\n",
    "from selenium.webdriver.chrome.options import Options\n",
    "from selenium.webdriver.chrome.service import Service\n",
    "from selenium.webdriver.support.ui import WebDriverWait\n",
    "from selenium.webdriver.support import expected_conditions as EC\n",
    "from webdriver_manager.chrome import ChromeDriverManager\n",
    "from selenium.common.exceptions import TimeoutException\n",
    "from selenium.webdriver.common.by import By\n",
    "from selenium.webdriver.common.keys import Keys\n",
    "from selenium.webdriver.common.by import By\n",
    "from time import time\n",
    "\n",
    "from bs4 import BeautifulSoup\n",
    "import re"
   ]
  },
  {
   "cell_type": "code",
   "execution_count": 2,
   "metadata": {},
   "outputs": [],
   "source": [
    "# Define a function to start chrome with a given link address\n",
    "def startBrowser(link, headless=False):\n",
    "    '''\n",
    "    Start a Chrome browser with Selenium. \n",
    "\n",
    "    This function takes a link or url and opens that in a browser with Selenium. \n",
    "    \n",
    "    It has the option of opening the browser as headless (which means that there is no Graphical User Interface but all \n",
    "    capabilities are available therein.)\n",
    "\n",
    "    \n",
    "    '''\n",
    "\n",
    "    # Open Browser in the background, with no display\n",
    "    if headless == True:\n",
    "\n",
    "        # Print information for script about the task being undertaken\n",
    "        print(\"-> Starting Chrome Headless\")\n",
    "\n",
    "\n",
    "        # Set up options to start chrome with\n",
    "        settings = webdriver.ChromeOptions()\n",
    "\n",
    "        # Ignore certificate errors from chrome\n",
    "        settings.add_argument('--ignore-certificate-errors')\n",
    "\n",
    "        #  Allow any type-safe setter from Chrome which are currently not encoded from Selenium side \n",
    "        settings.add_experimental_option('excludeSwitches', ['enable-logging'])\n",
    "\n",
    "        # Open the browser in Incognito\n",
    "        settings.add_argument('--incognito')\n",
    "\n",
    "        # Open the browser headless\n",
    "        settings.add_argument('--headless')\n",
    "\n",
    "        driver = webdriver.Chrome(service=Service(ChromeDriverManager().install()), options=settings) \n",
    "        \n",
    "        driver.get(link)\n",
    "\n",
    "        print('-> Headless browser opened and ready to use')\n",
    "\n",
    "        return driver\n",
    "\n",
    "\n",
    "    else:\n",
    "\n",
    "        # Print information for script about the task being undertaken\n",
    "        print(\"-> Starting Chrome\")\n",
    "\n",
    "        # Set a driver for the chrome startup\n",
    "        driver = webdriver.Chrome()\n",
    "\n",
    "        # Make the driver navigate to the link provided in function input\n",
    "        driver.get(link)\n",
    "\n",
    "        # Maximize the window for easier work\n",
    "        driver.maximize_window()\n",
    "\n",
    "        # Print message about browser being ready to use\n",
    "        print(\"-> Browser Ready to Use\")\n",
    "\n",
    "        # Return the driver which can be used for the operating the browser through Selenium in later code\n",
    "        return driver\n",
    "\n",
    "\n",
    "# ---------------------------------------------------------------------------------------------------------------------------------\n",
    "# driver.quit() :\n",
    "# The quit() method quits the driver, closing every associated window. \n",
    "\n",
    "# driver.close() : \n",
    "# The close() method closes the currently focused window, quitting the driver if the current window is the only open window.\n",
    "# ---------------------------------------------------------------------------------------------------------------------------------\n",
    "\n",
    "\n",
    "def quitBrowser():\n",
    "\n",
    "    # Print Process\n",
    "    print(\"-> Quitting Browser\")\n",
    "\n",
    "    # Quit the browser window\n",
    "    driver.quit()\n",
    "\n",
    "    # Print Process\n",
    "    print(\"-> Browser Quit\")\n",
    "\n",
    "\n",
    "def closeBrowser():\n",
    "\n",
    "    # Print Process\n",
    "    print(\"-> Closing Browser\")\n",
    "\n",
    "    # Quit the browser window\n",
    "    driver.close()\n",
    "\n",
    "    # Print Process\n",
    "    print(\"-> Browser Closed\")\n",
    "\n"
   ]
  },
  {
   "cell_type": "code",
   "execution_count": 3,
   "metadata": {},
   "outputs": [],
   "source": [
    "def initiateParser(driver):\n",
    "    \"\"\"\n",
    "    Initiates the Parser for Beautiful Soup\n",
    "    \n",
    "    \"\"\"\n",
    "\n",
    "    # Get the html page source from the driver\n",
    "    html_page = driver.page_source\n",
    "\n",
    "    # Use Beautiful Soup to parse through the html page\n",
    "    parser = BeautifulSoup(html_page, 'html.parser')\n",
    "\n",
    "    # Return the Parser\n",
    "    return parser\n",
    "\n"
   ]
  },
  {
   "cell_type": "code",
   "execution_count": 4,
   "metadata": {},
   "outputs": [],
   "source": [
    "def checkLastPage(parser):\n",
    "\n",
    "    \"\"\"\n",
    "    Check the total number of pages at the bottom of the main page. \n",
    "    This function uses the driver and Beautiful Soup to find the total number of pages with questions in it for leetcode. \n",
    "\n",
    "    Libraries used: Beautiful Soup, Regex, Selenium\n",
    "    \"\"\"\n",
    "\n",
    "    # Find the buttons at the bottom of the page which contains the total number of pages\n",
    "    page_list = parser.find_all('button', class_='flex items-center justify-center px-3 h-8 rounded select-none focus:outline-none bg-fill-3 dark:bg-dark-fill-3 text-label-2 dark:text-dark-label-2 hover:bg-fill-2 dark:hover:bg-dark-fill-2')\n",
    "\n",
    "    # Find the last page with a number associated with it.\n",
    "    # Note this will be the second last page as the last page is just a button by itself\n",
    "    last_page = page_list[-2]\n",
    "\n",
    "    # Extract the last 12 digits of the page which should ensure all 3 digit numbers showing up\n",
    "    number = str(last_page)[-13:]\n",
    "\n",
    "    # Use Regex to find all the numbers in the last 13 digits. \n",
    "    # Note: Taking -1 so as to ensure that you take the last number associated with the page\n",
    "    last_number = re.findall(r'\\d+', number)[-1]\n",
    "\n",
    "    # Print the highest page number\n",
    "    print(f\"The last page number is {int(last_number)}\")\n",
    "\n",
    "    # Return the last page number so it can be used later\n",
    "    return int(last_number)"
   ]
  },
  {
   "cell_type": "code",
   "execution_count": 8,
   "metadata": {},
   "outputs": [],
   "source": [
    "def questionList(parser):\n",
    "    '''\n",
    "    -------\n",
    "    INPUT:\n",
    "    -------\n",
    "\n",
    "    This function takes the result of the initiateParser() function and uses it to find all the tables on the page. \n",
    "    It parses through all the tables and finds the table with the most rows within it. \n",
    "    This table will the one with all the questions for later parsing. \n",
    "    -----------------------------------------------------------------------------------------------------------------\n",
    "\n",
    "    -------\n",
    "    OUTPUT:\n",
    "    -------\n",
    "\n",
    "    The output of the function will be the html output for the table with all the questions within it\n",
    "\n",
    "    \n",
    "    -----------------\n",
    "    Example Use Case:\n",
    "    -----------------\n",
    "\n",
    "    current_parser = initiateParser(driver)\n",
    "\n",
    "    q_list = questionList(current_parser)\n",
    "\n",
    "    '''\n",
    "\n",
    "    # Find all the tables on the page (defined as role = 'rowgroup')\n",
    "    q_table = parser.find_all('div', role='rowgroup')\n",
    "\n",
    "    # Initialise an empty list to store information later\n",
    "    lengths = []\n",
    "\n",
    "    # Start a counter\n",
    "    i = 0\n",
    "\n",
    "    # For each table found on the page\n",
    "    for table in range(len(q_table)):\n",
    "\n",
    "        # Start a minimum length of table counter as 0\n",
    "        length = 0\n",
    "\n",
    "        # Check the length of the table\n",
    "        new_length = len(q_table[i])\n",
    "\n",
    "        # If the current table length is higher than previous table length\n",
    "        if new_length > length:\n",
    "\n",
    "            # Add the length of the new table in the list created previously\n",
    "            lengths.append(new_length)\n",
    "\n",
    "            # The new base length is now the length of the current highest table\n",
    "            length = new_length\n",
    "\n",
    "        # Increase the counter by 1 to check next table index\n",
    "        i +=1\n",
    "\n",
    "    # Extract the table with the highest length (which will be in the last place of the list hence -1)\n",
    "    rows_in_table = lengths[-1]\n",
    "\n",
    "    # Find the index of the table with the highest length of rows. Subtract 1 as it is 0 indexed\n",
    "    table_index = i -1 \n",
    "\n",
    "    # The list of questions will be in the table with the highest length, which is extracted here. \n",
    "    q_list = q_table[table_index].find_all('div', role='row')[0:rows_in_table]\n",
    "\n",
    "    # Return Question List\n",
    "    return q_list"
   ]
  },
  {
   "cell_type": "markdown",
   "metadata": {},
   "source": [
    "---\n",
    "Testing Application\n",
    "\n",
    "---"
   ]
  },
  {
   "cell_type": "code",
   "execution_count": 25,
   "metadata": {},
   "outputs": [
    {
     "name": "stdout",
     "output_type": "stream",
     "text": [
      "-> Quitting Browser\n",
      "-> Browser Quit\n"
     ]
    }
   ],
   "source": [
    "quitBrowser()"
   ]
  },
  {
   "cell_type": "code",
   "execution_count": 5,
   "metadata": {},
   "outputs": [
    {
     "name": "stdout",
     "output_type": "stream",
     "text": [
      "-> Starting Chrome\n",
      "-> Browser Ready to Use\n"
     ]
    }
   ],
   "source": [
    "# Open Leetcode\n",
    "driver = startBrowser(\"https://leetcode.com/\", headless=False)"
   ]
  },
  {
   "cell_type": "code",
   "execution_count": 6,
   "metadata": {},
   "outputs": [],
   "source": [
    "# Timeout in seconds to allow page to load completely\n",
    "delay = 5 \n",
    "\n",
    "\n",
    "# Click the \"Get Started\" link to get into the Overall Questions page\n",
    "try:\n",
    "    # Wait for the element with the ID of wrapper\n",
    "    element = WebDriverWait(driver, delay).until(\n",
    "      EC.presence_of_element_located((By.CLASS_NAME, \"link\"))\n",
    "    )\n",
    "    element.click()\n",
    "except:\n",
    "    quitBrowser()\n",
    "\n",
    "\n",
    "\n",
    "# Click the \"Problems\" link to get into the problems page\n",
    "try:\n",
    "    # Wait for the element with the ID of wrapper\n",
    "    element = WebDriverWait(driver, delay).until(\n",
    "        EC.presence_of_element_located((By.XPATH,'//*[@id=\"leetcode-navbar\"]/div[1]/ul/li[2]/a'))).click()\n",
    "except:\n",
    "    quitBrowser()\n"
   ]
  },
  {
   "cell_type": "code",
   "execution_count": 7,
   "metadata": {},
   "outputs": [],
   "source": [
    "# Use the driver to initiate the parse\n",
    "parser = initiateParser(driver)"
   ]
  },
  {
   "cell_type": "code",
   "execution_count": 8,
   "metadata": {},
   "outputs": [
    {
     "name": "stdout",
     "output_type": "stream",
     "text": [
      "The last page number is 67\n"
     ]
    }
   ],
   "source": [
    "# See how many pages of problems are in the set\n",
    "last_page = checkLastPage(parser)"
   ]
  },
  {
   "cell_type": "code",
   "execution_count": 10,
   "metadata": {},
   "outputs": [],
   "source": [
    "q_list = questionList(parser)"
   ]
  },
  {
   "cell_type": "code",
   "execution_count": 16,
   "metadata": {},
   "outputs": [],
   "source": [
    "def index_question_difficulty(question_list):\n",
    "    '''\n",
    "    -------\n",
    "    INPUT:\n",
    "    -------\n",
    "\n",
    "    This function takes the result of the questionList() function and uses it to find all the questions (and related information) on the page. \n",
    "    It parses through all the questions and finds the index number, question name and difficulty level of the questions.  \n",
    "    -----------------------------------------------------------------------------------------------------------------\n",
    "\n",
    "    -------\n",
    "    OUTPUT:\n",
    "    -------\n",
    "\n",
    "    The output of the function will be the  3 lists:\n",
    "    1. Index list\n",
    "    2. Question name list\n",
    "    3. Question difficulty list\n",
    "    \n",
    "    -----------------\n",
    "    Example Use Case:\n",
    "    -----------------\n",
    "\n",
    "    q_list = questionList(current_parser)\n",
    "\n",
    "    index_list, question_list, difficulty_list = index_question_difficulty(question_list = q_list)\n",
    "\n",
    "    '''\n",
    "    # Extracting Question number and Question string from the q_list. \n",
    "\n",
    "    # Create an empty dictionary\n",
    "    question_list = []\n",
    "    index_list = []\n",
    "    difficulty_list = []\n",
    "\n",
    "    # For row in the question list\n",
    "    for question in q_list:\n",
    "\n",
    "        # Find all the rows within the question list\n",
    "        row = question.find_all('div', role='cell')\n",
    "\n",
    "        # Isolates the section where name and index will be found \n",
    "        row_info = row[1].find('a').text \n",
    "\n",
    "        # Isolates the section where difficulty will be found\n",
    "        row_info2 = row[4].find('span').text \n",
    "\n",
    "\n",
    "        # Create Regex patterns to match everything before and after the first period\n",
    "        pattern_before = r'^(.*?)\\.'\n",
    "        pattern_after = r'\\.(.*)'\n",
    "\n",
    "        # Find all matches before a period using regex\n",
    "        matches_before = re.findall(pattern_before, row_info)\n",
    "\n",
    "        # Turn the result into an integer\n",
    "        matches_before = int(matches_before[0])\n",
    "\n",
    "        # Find all matches after a period using regex\n",
    "        matches_after = re.findall(pattern_after, row_info)\n",
    "\n",
    "        # Remove all the leading and trailing spaces from the result\n",
    "        matches_after = matches_after[0].strip()\n",
    "\n",
    "        # Add results to lists\n",
    "        index_list.append(matches_before)\n",
    "        question_list.append(matches_after)\n",
    "        difficulty_list.append(row_info2)\n",
    "\n",
    "    # Return the results\n",
    "    return index_list, question_list, difficulty_list\n",
    "\n"
   ]
  },
  {
   "cell_type": "code",
   "execution_count": 18,
   "metadata": {},
   "outputs": [],
   "source": [
    "index_list, question_list, difficulty_list = index_question_difficulty(question_list=q_list)"
   ]
  },
  {
   "cell_type": "code",
   "execution_count": 5,
   "metadata": {},
   "outputs": [
    {
     "ename": "SyntaxError",
     "evalue": "incomplete input (3275129531.py, line 15)",
     "output_type": "error",
     "traceback": [
      "\u001b[0;36m  Cell \u001b[0;32mIn[5], line 15\u001b[0;36m\u001b[0m\n\u001b[0;31m    \u001b[0m\n\u001b[0m    ^\u001b[0m\n\u001b[0;31mSyntaxError\u001b[0m\u001b[0;31m:\u001b[0m incomplete input\n"
     ]
    }
   ],
   "source": [
    "def dataScraper():\n",
    "    \n",
    "    last = checkLastPage(driver)\n",
    "\n",
    "    delay = 5\n",
    "    \n",
    "    try:    \n",
    "        # Wait for the element with the ID of wrapper\n",
    "        element = WebDriverWait(driver, delay).until(\n",
    "        EC.presence_of_element_located((By.CLASS_NAME, \"link\"))\n",
    "        )\n",
    "        element.click()\n",
    "\n",
    "    except:\n",
    "        \n"
   ]
  },
  {
   "cell_type": "code",
   "execution_count": null,
   "metadata": {},
   "outputs": [],
   "source": []
  },
  {
   "cell_type": "code",
   "execution_count": 10,
   "metadata": {},
   "outputs": [],
   "source": [
    "import numpy as np\n",
    "import pandas as pd\n",
    "\n",
    "\n",
    "# Create lists for storing scraped data\n",
    "titleList = []\n",
    "solutionList = []\n",
    "acceptanceList = []\n",
    "difficultyList = []\n",
    "\n",
    "# Element for each row of table\n",
    "# <div role=\"row\" class=\"odd:bg-layer-1 even:bg-overlay-1 dark:odd:bg-dark-layer-bg dark:even:bg-dark-fill-4\" style=\"display: flex; flex: 1 0 auto; min-width: 0px;\"><div role=\"cell\" class=\"mx-2 flex items-center py-[11px]\" style=\"box-sizing: border-box; flex: 52 0 auto; min-width: 0px; width: 52px;\"></div><div role=\"cell\" class=\"mx-2 flex items-center py-[11px]\" style=\"box-sizing: border-box; flex: 260 0 auto; min-width: 0px; width: 260px;\"><div class=\"max-w-[302px] flex items-center overflow-hidden\"><div class=\"overflow-hidden\"><div class=\"flex items-center\"><div class=\"truncate\"><a href=\"/problems/two-sum\" class=\"h-5 hover:text-blue-s dark:hover:text-dark-blue-s\">1. Two Sum</a></div></div></div></div></div><div role=\"cell\" class=\"mx-2 flex items-center py-[11px]\" style=\"box-sizing: border-box; flex: 54 0 auto; min-width: 0px; width: 54px;\"><a aria-label=\"solution\" href=\"/problems/two-sum/solution\" class=\"truncate\"><svg xmlns=\"http://www.w3.org/2000/svg\" viewBox=\"0 0 24 24\" width=\"1em\" height=\"1em\" fill=\"currentColor\" class=\"text-purple dark:text-dark-purple h-5 w-5\"><path d=\"M10 15.464v-3.927a.8.8 0 011.259-.656l2.805 1.964a.8.8 0 010 1.31l-2.805 1.964A.8.8 0 0110 15.464z\"></path><path d=\"M7 4a1 1 0 00-1 1v14a1 1 0 001 1h10a1 1 0 001-1V9h-3a2 2 0 01-2-2V4H7zm8 .6V7h1.92L15 4.6zM4 5a3 3 0 013-3h7.039a3 3 0 012.342 1.126l2.962 3.701A3 3 0 0120 8.702V19a3 3 0 01-3 3H7a3 3 0 01-3-3V5z\"></path></svg></a></div><div role=\"cell\" class=\"mx-2 flex items-center py-[11px]\" style=\"box-sizing: border-box; flex: 100 0 auto; min-width: 0px; width: 100px;\"><span>53.9%</span></div><div role=\"cell\" class=\"mx-2 flex items-center py-[11px]\" style=\"box-sizing: border-box; flex: 84 0 auto; min-width: 0px; width: 84px;\"><span class=\"text-olive dark:text-dark-olive\">Easy</span></div><div role=\"cell\" class=\"mx-2 flex items-center py-[11px]\" style=\"box-sizing: border-box; flex: 84 0 auto; min-width: 0px; width: 84px;\"><a class=\"flex h-full w-full flex-row items-center\" href=\"/subscribe/?ref=ps_fq\" data-state=\"closed\"><div class=\"flex h-full w-full flex-row items-center\"><span class=\"h-2 flex-1 rounded-l-lg bg-fill-3 dark:bg-dark-fill-3\"></span><svg xmlns=\"http://www.w3.org/2000/svg\" viewBox=\"0 0 24 24\" width=\"1em\" height=\"1em\" fill=\"currentColor\" class=\"text-gray-5 dark:text-gray-7 -mt-1.5 h-5 w-5\"><path fill-rule=\"evenodd\" d=\"M7 8v2H6a3 3 0 00-3 3v6a3 3 0 003 3h12a3 3 0 003-3v-6a3 3 0 00-3-3h-1V8A5 5 0 007 8zm8 0v2H9V8a3 3 0 116 0zm-3 6a2 2 0 100 4 2 2 0 000-4z\" clip-rule=\"evenodd\"></path></svg><span class=\"h-2 flex-1 rounded-r-lg bg-fill-3 dark:bg-dark-fill-3\"></span></div></a></div></div>\"\n",
    "\n"
   ]
  },
  {
   "cell_type": "code",
   "execution_count": 22,
   "metadata": {},
   "outputs": [],
   "source": [
    "driver.quit()\n"
   ]
  },
  {
   "cell_type": "code",
   "execution_count": 11,
   "metadata": {},
   "outputs": [
    {
     "name": "stdout",
     "output_type": "stream",
     "text": [
      "-> Starting Chrome Headless\n",
      "-> Headless browser opened and ready to use\n"
     ]
    }
   ],
   "source": [
    "# driver = startBrowser(\"https://leetcode.com/\", headless=True)\n"
   ]
  },
  {
   "cell_type": "code",
   "execution_count": null,
   "metadata": {},
   "outputs": [],
   "source": []
  },
  {
   "cell_type": "code",
   "execution_count": null,
   "metadata": {},
   "outputs": [],
   "source": []
  },
  {
   "cell_type": "code",
   "execution_count": null,
   "metadata": {},
   "outputs": [],
   "source": []
  },
  {
   "cell_type": "code",
   "execution_count": null,
   "metadata": {},
   "outputs": [],
   "source": []
  },
  {
   "cell_type": "code",
   "execution_count": null,
   "metadata": {},
   "outputs": [],
   "source": []
  },
  {
   "cell_type": "code",
   "execution_count": 10,
   "metadata": {},
   "outputs": [
    {
     "name": "stdout",
     "output_type": "stream",
     "text": [
      "Google\n"
     ]
    }
   ],
   "source": [
    "print(driver.title)"
   ]
  },
  {
   "cell_type": "code",
   "execution_count": 11,
   "metadata": {},
   "outputs": [],
   "source": [
    "search = driver.find_element(By.NAME ,\"q\")\n",
    "search.send_keys(\"scotiabank canada\")\n",
    "search.send_keys(Keys.RETURN)"
   ]
  },
  {
   "cell_type": "code",
   "execution_count": 13,
   "metadata": {},
   "outputs": [
    {
     "ename": "AttributeError",
     "evalue": "type object 'By' has no attribute 'name'",
     "output_type": "error",
     "traceback": [
      "\u001b[0;31m---------------------------------------------------------------------------\u001b[0m",
      "\u001b[0;31mAttributeError\u001b[0m                            Traceback (most recent call last)",
      "Cell \u001b[0;32mIn[13], line 17\u001b[0m\n\u001b[1;32m     12\u001b[0m     driver\u001b[38;5;241m.\u001b[39mquit()\n\u001b[1;32m     15\u001b[0m \u001b[38;5;66;03m# Click the scotiabank link\u001b[39;00m\n\u001b[0;32m---> 17\u001b[0m search \u001b[38;5;241m=\u001b[39m driver\u001b[38;5;241m.\u001b[39mfind_element(By\u001b[38;5;241m.\u001b[39mname ,\u001b[38;5;124m\"\u001b[39m\u001b[38;5;124mUWckNb\u001b[39m\u001b[38;5;124m\"\u001b[39m)\n\u001b[1;32m     18\u001b[0m search\u001b[38;5;241m.\u001b[39msend_keys(Keys\u001b[38;5;241m.\u001b[39mRETURN)\n",
      "\u001b[0;31mAttributeError\u001b[0m: type object 'By' has no attribute 'name'"
     ]
    }
   ],
   "source": [
    "# Timeout in seconds\n",
    "delay = 5 \n",
    "\n",
    "try:\n",
    "    # Wait for the element with the ID of wrapper\n",
    "    main = WebDriverWait(driver, delay).until(\n",
    "      EC.presence_of_element_located((By.ID, \"rso\"))\n",
    "    )\n",
    "    \n",
    "\n",
    "except:\n",
    "    driver.quit()\n",
    "\n",
    "\n",
    "# \n",
    "\n",
    "main = driver.find_element()\n"
   ]
  },
  {
   "cell_type": "code",
   "execution_count": 15,
   "metadata": {},
   "outputs": [],
   "source": [
    "driver.quit()"
   ]
  },
  {
   "cell_type": "code",
   "execution_count": null,
   "metadata": {},
   "outputs": [],
   "source": []
  }
 ],
 "metadata": {
  "kernelspec": {
   "display_name": "leetcode",
   "language": "python",
   "name": "python3"
  },
  "language_info": {
   "codemirror_mode": {
    "name": "ipython",
    "version": 3
   },
   "file_extension": ".py",
   "mimetype": "text/x-python",
   "name": "python",
   "nbconvert_exporter": "python",
   "pygments_lexer": "ipython3",
   "version": "3.12.4"
  }
 },
 "nbformat": 4,
 "nbformat_minor": 2
}
