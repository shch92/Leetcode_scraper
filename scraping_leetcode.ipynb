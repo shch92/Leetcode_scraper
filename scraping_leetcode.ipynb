{
 "cells": [
  {
   "cell_type": "code",
   "execution_count": 62,
   "metadata": {},
   "outputs": [],
   "source": [
    "from selenium import webdriver\n",
    "from selenium.webdriver.chrome.options import Options\n",
    "from selenium.webdriver.chrome.service import Service\n",
    "from selenium.webdriver.support.ui import WebDriverWait\n",
    "from selenium.webdriver.support import expected_conditions as EC\n",
    "from webdriver_manager.chrome import ChromeDriverManager\n",
    "from selenium.common.exceptions import TimeoutException\n",
    "from selenium.webdriver.common.by import By\n",
    "from selenium.webdriver.common.keys import Keys\n",
    "from selenium.webdriver.common.by import By\n",
    "from time import time\n",
    "\n",
    "import requests\n",
    "from bs4 import BeautifulSoup\n",
    "import re"
   ]
  },
  {
   "cell_type": "code",
   "execution_count": 2,
   "metadata": {},
   "outputs": [],
   "source": [
    "# Define a function to start chrome with a given link address\n",
    "def startBrowser(link, headless=False):\n",
    "    '''\n",
    "    Start a Chrome browser with Selenium. \n",
    "\n",
    "    This function takes a link or url and opens that in a browser with Selenium. \n",
    "    \n",
    "    '''\n",
    "\n",
    "    # Open Browser in the background, with no display\n",
    "    if headless == True:\n",
    "\n",
    "        # Print information for script about the task being undertaken\n",
    "        print(\"-> Starting Chrome Headless\")\n",
    "\n",
    "\n",
    "        # Set up options to start chrome with\n",
    "        settings = webdriver.ChromeOptions()\n",
    "\n",
    "        # Ignore certificate errors from chrome\n",
    "        settings.add_argument('--ignore-certificate-errors')\n",
    "\n",
    "        #  Allow any type-safe setter from Chrome which are currently not encoded from Selenium side \n",
    "        settings.add_experimental_option('excludeSwitches', ['enable-logging'])\n",
    "\n",
    "        # Open the browser in Incognito\n",
    "        settings.add_argument('--incognito')\n",
    "\n",
    "        # Open the browser headless\n",
    "        settings.add_argument('--headless')\n",
    "\n",
    "        driver = webdriver.Chrome(service=Service(ChromeDriverManager().install()), options=settings) \n",
    "        \n",
    "        driver.get(link)\n",
    "\n",
    "        print('-> Headless browser opened and ready to use')\n",
    "\n",
    "        return driver\n",
    "\n",
    "\n",
    "    else:\n",
    "\n",
    "        # Print information for script about the task being undertaken\n",
    "        print(\"-> Starting Chrome\")\n",
    "\n",
    "        # Set a driver for the chrome startup\n",
    "        driver = webdriver.Chrome()\n",
    "\n",
    "        # Make the driver navigate to the link provided in function input\n",
    "        driver.get(link)\n",
    "\n",
    "        # Maximize the window for easier work\n",
    "        driver.maximize_window()\n",
    "\n",
    "        # Print message about browser being ready to use\n",
    "        print(\"-> Browser Ready to Use\")\n",
    "\n",
    "        # Return the driver which can be used for the operating the browser through Selenium in later code\n",
    "        return driver\n",
    "\n",
    "\n",
    "# ---------------------------------------------------------------------------------------------------------------------------------\n",
    "# driver.quit() :\n",
    "# The quit() method quits the driver, closing every associated window. \n",
    "\n",
    "# driver.close() : \n",
    "# The close() method closes the currently focused window, quitting the driver if the current window is the only open window.\n",
    "# ---------------------------------------------------------------------------------------------------------------------------------\n",
    "\n",
    "\n",
    "def quitBrowser():\n",
    "\n",
    "    # Print Process\n",
    "    print(\"-> Quitting Browser\")\n",
    "\n",
    "    # Quit the browser window\n",
    "    driver.quit()\n",
    "\n",
    "    # Print Process\n",
    "    print(\"-> Browser Quit\")\n",
    "\n",
    "\n",
    "def closeBrowser():\n",
    "\n",
    "    # Print Process\n",
    "    print(\"-> Closing Browser\")\n",
    "\n",
    "    # Quit the browser window\n",
    "    driver.close()\n",
    "\n",
    "    # Print Process\n",
    "    print(\"-> Browser Closed\")\n",
    "\n"
   ]
  },
  {
   "cell_type": "code",
   "execution_count": null,
   "metadata": {},
   "outputs": [],
   "source": [
    "def dataScraper():\n",
    "\n",
    "    delay = 5\n",
    "    \n",
    "    try:    \n",
    "        # Wait for the element with the ID of wrapper\n",
    "        element = WebDriverWait(driver, delay).until(\n",
    "        EC.presence_of_element_located((By.CLASS_NAME, \"link\"))\n",
    "        )\n",
    "        element.click()\n",
    "\n",
    "    except:\n",
    "        \n"
   ]
  },
  {
   "cell_type": "code",
   "execution_count": 3,
   "metadata": {},
   "outputs": [
    {
     "name": "stdout",
     "output_type": "stream",
     "text": [
      "-> Starting Chrome\n",
      "-> Browser Ready to Use\n"
     ]
    }
   ],
   "source": [
    "# Open Leetcode\n",
    "driver = startBrowser(\"https://leetcode.com/\", headless=False)"
   ]
  },
  {
   "cell_type": "code",
   "execution_count": 4,
   "metadata": {},
   "outputs": [],
   "source": [
    "# Timeout in seconds to allow page to load completely\n",
    "delay = 5 \n",
    "\n",
    "\n",
    "# Click the \"Get Started\" link to get into the Overall Questions page\n",
    "try:\n",
    "    # Wait for the element with the ID of wrapper\n",
    "    element = WebDriverWait(driver, delay).until(\n",
    "      EC.presence_of_element_located((By.CLASS_NAME, \"link\"))\n",
    "    )\n",
    "    element.click()\n",
    "except:\n",
    "    quitBrowser()\n",
    "\n",
    "\n",
    "\n",
    "# Click the \"Problems\" link to get into the problems page\n",
    "try:\n",
    "    # Wait for the element with the ID of wrapper\n",
    "    element = WebDriverWait(driver, delay).until(\n",
    "        EC.presence_of_element_located((By.XPATH,'//*[@id=\"leetcode-navbar\"]/div[1]/ul/li[2]/a'))).click()\n",
    "except:\n",
    "    quitBrowser()\n"
   ]
  },
  {
   "cell_type": "code",
   "execution_count": null,
   "metadata": {},
   "outputs": [],
   "source": [
    "import numpy as np\n",
    "import pandas as pd\n",
    "\n",
    "\n",
    "# Create lists for storing scraped data\n",
    "titleList = []\n",
    "solutionList = []\n",
    "acceptanceList = []\n",
    "difficultyList = []\n",
    "\n",
    "# Element for each row of table\n",
    "# <div role=\"row\" class=\"odd:bg-layer-1 even:bg-overlay-1 dark:odd:bg-dark-layer-bg dark:even:bg-dark-fill-4\" style=\"display: flex; flex: 1 0 auto; min-width: 0px;\"><div role=\"cell\" class=\"mx-2 flex items-center py-[11px]\" style=\"box-sizing: border-box; flex: 52 0 auto; min-width: 0px; width: 52px;\"></div><div role=\"cell\" class=\"mx-2 flex items-center py-[11px]\" style=\"box-sizing: border-box; flex: 260 0 auto; min-width: 0px; width: 260px;\"><div class=\"max-w-[302px] flex items-center overflow-hidden\"><div class=\"overflow-hidden\"><div class=\"flex items-center\"><div class=\"truncate\"><a href=\"/problems/two-sum\" class=\"h-5 hover:text-blue-s dark:hover:text-dark-blue-s\">1. Two Sum</a></div></div></div></div></div><div role=\"cell\" class=\"mx-2 flex items-center py-[11px]\" style=\"box-sizing: border-box; flex: 54 0 auto; min-width: 0px; width: 54px;\"><a aria-label=\"solution\" href=\"/problems/two-sum/solution\" class=\"truncate\"><svg xmlns=\"http://www.w3.org/2000/svg\" viewBox=\"0 0 24 24\" width=\"1em\" height=\"1em\" fill=\"currentColor\" class=\"text-purple dark:text-dark-purple h-5 w-5\"><path d=\"M10 15.464v-3.927a.8.8 0 011.259-.656l2.805 1.964a.8.8 0 010 1.31l-2.805 1.964A.8.8 0 0110 15.464z\"></path><path d=\"M7 4a1 1 0 00-1 1v14a1 1 0 001 1h10a1 1 0 001-1V9h-3a2 2 0 01-2-2V4H7zm8 .6V7h1.92L15 4.6zM4 5a3 3 0 013-3h7.039a3 3 0 012.342 1.126l2.962 3.701A3 3 0 0120 8.702V19a3 3 0 01-3 3H7a3 3 0 01-3-3V5z\"></path></svg></a></div><div role=\"cell\" class=\"mx-2 flex items-center py-[11px]\" style=\"box-sizing: border-box; flex: 100 0 auto; min-width: 0px; width: 100px;\"><span>53.9%</span></div><div role=\"cell\" class=\"mx-2 flex items-center py-[11px]\" style=\"box-sizing: border-box; flex: 84 0 auto; min-width: 0px; width: 84px;\"><span class=\"text-olive dark:text-dark-olive\">Easy</span></div><div role=\"cell\" class=\"mx-2 flex items-center py-[11px]\" style=\"box-sizing: border-box; flex: 84 0 auto; min-width: 0px; width: 84px;\"><a class=\"flex h-full w-full flex-row items-center\" href=\"/subscribe/?ref=ps_fq\" data-state=\"closed\"><div class=\"flex h-full w-full flex-row items-center\"><span class=\"h-2 flex-1 rounded-l-lg bg-fill-3 dark:bg-dark-fill-3\"></span><svg xmlns=\"http://www.w3.org/2000/svg\" viewBox=\"0 0 24 24\" width=\"1em\" height=\"1em\" fill=\"currentColor\" class=\"text-gray-5 dark:text-gray-7 -mt-1.5 h-5 w-5\"><path fill-rule=\"evenodd\" d=\"M7 8v2H6a3 3 0 00-3 3v6a3 3 0 003 3h12a3 3 0 003-3v-6a3 3 0 00-3-3h-1V8A5 5 0 007 8zm8 0v2H9V8a3 3 0 116 0zm-3 6a2 2 0 100 4 2 2 0 000-4z\" clip-rule=\"evenodd\"></path></svg><span class=\"h-2 flex-1 rounded-r-lg bg-fill-3 dark:bg-dark-fill-3\"></span></div></a></div></div>\n",
    "\n",
    "\n",
    "\n"
   ]
  },
  {
   "cell_type": "code",
   "execution_count": 41,
   "metadata": {},
   "outputs": [],
   "source": [
    "html_page = driver.page_source\n",
    "\n",
    "parser = BeautifulSoup(html_page, 'html.parser')"
   ]
  },
  {
   "cell_type": "code",
   "execution_count": 75,
   "metadata": {},
   "outputs": [
    {
     "name": "stdout",
     "output_type": "stream",
     "text": [
      "67\n"
     ]
    }
   ],
   "source": [
    "# Find the last page number to see the number of pages to scrape in total\n",
    "\n",
    "\n",
    "# Find the buttons at the bottom of the page which contains the total number of pages\n",
    "page_list = parser.find_all('button', class_='flex items-center justify-center px-3 h-8 rounded select-none focus:outline-none bg-fill-3 dark:bg-dark-fill-3 text-label-2 dark:text-dark-label-2 hover:bg-fill-2 dark:hover:bg-dark-fill-2')\n",
    "\n",
    "# Find the last page with a number associated with it.\n",
    "# Note this will be the second last page as the last page is just a button by itself\n",
    "last_page = page_list[-2]\n",
    "\n",
    "# Extract the last 12 digits of the page which should ensure all 3 digit numbers showing up\n",
    "number = str(last_page)[-13:]\n",
    "\n",
    "# Use Regex to find all the numbers in the last 13 digits. \n",
    "# Note: Taking -1 so as to ensure that you take the last number associated with the page\n",
    "last_number = re.findall(r'\\d+', number)[-1]\n",
    "\n",
    "# Print the highest page number\n",
    "print(int(last_number))"
   ]
  },
  {
   "cell_type": "code",
   "execution_count": 40,
   "metadata": {},
   "outputs": [
    {
     "data": {
      "text/plain": [
       "<div class=\"odd:bg-layer-1 even:bg-overlay-1 dark:odd:bg-dark-layer-bg dark:even:bg-dark-fill-4\" role=\"row\" style=\"display: flex; flex: 1 0 auto; min-width: 0px;\"><div class=\"mx-2 flex items-center py-[11px]\" role=\"cell\" style=\"box-sizing: border-box; flex: 52 0 auto; min-width: 0px; width: 52px;\"><a href=\"/problems/rank-transform-of-an-array/?envType=daily-question&amp;envId=2024-10-02\"><svg class=\"h-[18px] w-[18px] cursor-pointer text-green-s dark:text-dark-green-s\" fill=\"currentColor\" height=\"1em\" viewbox=\"0 0 24 24\" width=\"1em\" xmlns=\"http://www.w3.org/2000/svg\"><path clip-rule=\"evenodd\" d=\"M19 11.063V7h-2v1a1 1 0 11-2 0V7H9v1a1 1 0 01-2 0V7H5v4.063h14zm0 2H5V19h14v-5.938zM9 5h6V4a1 1 0 112 0v1h2a2 2 0 012 2v12a2 2 0 01-2 2H5a2 2 0 01-2-2V7a2 2 0 012-2h2V4a1 1 0 012 0v1z\" fill-rule=\"evenodd\"></path></svg></a></div><div class=\"mx-2 flex items-center py-[11px]\" role=\"cell\" style=\"box-sizing: border-box; flex: 260 0 auto; min-width: 0px; width: 260px;\"><div class=\"max-w-[302px] flex items-center overflow-hidden\"><div class=\"overflow-hidden\"><div class=\"flex items-center\"><div class=\"truncate\"><a class=\"h-5 hover:text-blue-s dark:hover:text-dark-blue-s\" href=\"/problems/rank-transform-of-an-array/?envType=daily-question&amp;envId=2024-10-02\">1331. Rank Transform of an Array</a></div></div></div></div></div><div class=\"mx-2 flex items-center py-[11px]\" role=\"cell\" style=\"box-sizing: border-box; flex: 54 0 auto; min-width: 0px; width: 54px;\"><a aria-label=\"solution\" class=\"truncate\" href=\"/problems/rank-transform-of-an-array/solution\"><svg class=\"text-blue dark:text-dark-blue h-5 w-5\" fill=\"currentColor\" height=\"1em\" viewbox=\"0 0 24 24\" width=\"1em\" xmlns=\"http://www.w3.org/2000/svg\"><path d=\"M15.207 11.293a1 1 0 010 1.414l-3.5 3.5a1 1 0 01-1.414 0l-2-2a1 1 0 111.414-1.414L11 14.086l2.793-2.793a1 1 0 011.414 0z\"></path><path d=\"M4 5a3 3 0 013-3h7.039a3 3 0 012.342 1.126l2.962 3.701A3 3 0 0120 8.702V19a3 3 0 01-3 3H7a3 3 0 01-3-3V5zm3-1a1 1 0 00-1 1v14a1 1 0 001 1h10a1 1 0 001-1V9h-3a2 2 0 01-2-2V4H7zm8 .6V7h1.92L15 4.6z\"></path></svg></a></div><div class=\"mx-2 flex items-center py-[11px]\" role=\"cell\" style=\"box-sizing: border-box; flex: 100 0 auto; min-width: 0px; width: 100px;\"><span>70.2%</span></div><div class=\"mx-2 flex items-center py-[11px]\" role=\"cell\" style=\"box-sizing: border-box; flex: 84 0 auto; min-width: 0px; width: 84px;\"><span class=\"text-olive dark:text-dark-olive\">Easy</span></div><div class=\"mx-2 flex items-center py-[11px]\" role=\"cell\" style=\"box-sizing: border-box; flex: 84 0 auto; min-width: 0px; width: 84px;\"><a class=\"flex h-full w-full flex-row items-center\" data-state=\"closed\" href=\"/subscribe/?ref=ps_fq\"><div class=\"flex h-full w-full flex-row items-center\"><span class=\"h-2 flex-1 rounded-l-lg bg-fill-3 dark:bg-dark-fill-3\"></span><svg class=\"text-gray-5 dark:text-gray-7 -mt-1.5 h-5 w-5\" fill=\"currentColor\" height=\"1em\" viewbox=\"0 0 24 24\" width=\"1em\" xmlns=\"http://www.w3.org/2000/svg\"><path clip-rule=\"evenodd\" d=\"M7 8v2H6a3 3 0 00-3 3v6a3 3 0 003 3h12a3 3 0 003-3v-6a3 3 0 00-3-3h-1V8A5 5 0 007 8zm8 0v2H9V8a3 3 0 116 0zm-3 6a2 2 0 100 4 2 2 0 000-4z\" fill-rule=\"evenodd\"></path></svg><span class=\"h-2 flex-1 rounded-r-lg bg-fill-3 dark:bg-dark-fill-3\"></span></div></a></div></div>"
      ]
     },
     "execution_count": 40,
     "metadata": {},
     "output_type": "execute_result"
    }
   ],
   "source": [
    "# Find using multiple attributes\n",
    "parser.find('div', attrs={'role': 'row', 'class':'odd:bg-layer-1 even:bg-overlay-1 dark:odd:bg-dark-layer-bg dark:even:bg-dark-fill-4'})"
   ]
  },
  {
   "cell_type": "code",
   "execution_count": 153,
   "metadata": {},
   "outputs": [
    {
     "name": "stdout",
     "output_type": "stream",
     "text": [
      "-> Starting Chrome Headless\n",
      "-> Headless browser opened\n"
     ]
    }
   ],
   "source": [
    "driver = startBrowser(\"https://leetcode.com/\", headless=True)\n"
   ]
  },
  {
   "cell_type": "code",
   "execution_count": 154,
   "metadata": {},
   "outputs": [],
   "source": [
    "driver.quit()"
   ]
  },
  {
   "cell_type": "code",
   "execution_count": null,
   "metadata": {},
   "outputs": [],
   "source": []
  },
  {
   "cell_type": "code",
   "execution_count": null,
   "metadata": {},
   "outputs": [],
   "source": []
  },
  {
   "cell_type": "code",
   "execution_count": null,
   "metadata": {},
   "outputs": [],
   "source": []
  },
  {
   "cell_type": "code",
   "execution_count": null,
   "metadata": {},
   "outputs": [],
   "source": []
  },
  {
   "cell_type": "code",
   "execution_count": null,
   "metadata": {},
   "outputs": [],
   "source": []
  },
  {
   "cell_type": "code",
   "execution_count": 10,
   "metadata": {},
   "outputs": [
    {
     "name": "stdout",
     "output_type": "stream",
     "text": [
      "Google\n"
     ]
    }
   ],
   "source": [
    "print(driver.title)"
   ]
  },
  {
   "cell_type": "code",
   "execution_count": 11,
   "metadata": {},
   "outputs": [],
   "source": [
    "search = driver.find_element(By.NAME ,\"q\")\n",
    "search.send_keys(\"scotiabank canada\")\n",
    "search.send_keys(Keys.RETURN)"
   ]
  },
  {
   "cell_type": "code",
   "execution_count": 13,
   "metadata": {},
   "outputs": [
    {
     "ename": "AttributeError",
     "evalue": "type object 'By' has no attribute 'name'",
     "output_type": "error",
     "traceback": [
      "\u001b[0;31m---------------------------------------------------------------------------\u001b[0m",
      "\u001b[0;31mAttributeError\u001b[0m                            Traceback (most recent call last)",
      "Cell \u001b[0;32mIn[13], line 17\u001b[0m\n\u001b[1;32m     12\u001b[0m     driver\u001b[38;5;241m.\u001b[39mquit()\n\u001b[1;32m     15\u001b[0m \u001b[38;5;66;03m# Click the scotiabank link\u001b[39;00m\n\u001b[0;32m---> 17\u001b[0m search \u001b[38;5;241m=\u001b[39m driver\u001b[38;5;241m.\u001b[39mfind_element(By\u001b[38;5;241m.\u001b[39mname ,\u001b[38;5;124m\"\u001b[39m\u001b[38;5;124mUWckNb\u001b[39m\u001b[38;5;124m\"\u001b[39m)\n\u001b[1;32m     18\u001b[0m search\u001b[38;5;241m.\u001b[39msend_keys(Keys\u001b[38;5;241m.\u001b[39mRETURN)\n",
      "\u001b[0;31mAttributeError\u001b[0m: type object 'By' has no attribute 'name'"
     ]
    }
   ],
   "source": [
    "# Timeout in seconds\n",
    "delay = 5 \n",
    "\n",
    "try:\n",
    "    # Wait for the element with the ID of wrapper\n",
    "    main = WebDriverWait(driver, delay).until(\n",
    "      EC.presence_of_element_located((By.ID, \"rso\"))\n",
    "    )\n",
    "    \n",
    "\n",
    "except:\n",
    "    driver.quit()\n",
    "\n",
    "\n",
    "# \n",
    "\n",
    "main = driver.find_element()\n"
   ]
  },
  {
   "cell_type": "code",
   "execution_count": 6,
   "metadata": {},
   "outputs": [],
   "source": [
    "driver.quit()"
   ]
  },
  {
   "cell_type": "code",
   "execution_count": null,
   "metadata": {},
   "outputs": [],
   "source": []
  }
 ],
 "metadata": {
  "kernelspec": {
   "display_name": "leetcode",
   "language": "python",
   "name": "python3"
  },
  "language_info": {
   "codemirror_mode": {
    "name": "ipython",
    "version": 3
   },
   "file_extension": ".py",
   "mimetype": "text/x-python",
   "name": "python",
   "nbconvert_exporter": "python",
   "pygments_lexer": "ipython3",
   "version": "3.12.4"
  }
 },
 "nbformat": 4,
 "nbformat_minor": 2
}
